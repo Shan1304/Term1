{
  "nbformat": 4,
  "nbformat_minor": 0,
  "metadata": {
    "colab": {
      "name": "Practice1.ipynb",
      "provenance": [],
      "authorship_tag": "ABX9TyOBsl4OH670jtI/B8O2O36x",
      "include_colab_link": true
    },
    "kernelspec": {
      "name": "python3",
      "display_name": "Python 3"
    }
  },
  "cells": [
    {
      "cell_type": "markdown",
      "metadata": {
        "id": "view-in-github",
        "colab_type": "text"
      },
      "source": [
        "<a href=\"https://colab.research.google.com/github/Shan1304/Term1/blob/main/Practice1.ipynb\" target=\"_parent\"><img src=\"https://colab.research.google.com/assets/colab-badge.svg\" alt=\"Open In Colab\"/></a>"
      ]
    },
    {
      "cell_type": "code",
      "metadata": {
        "id": "bmA1aALTIhFc",
        "colab": {
          "base_uri": "https://localhost:8080/"
        },
        "outputId": "80736888-b229-4681-e70d-3cf6df77194b"
      },
      "source": [
        "print('shantanu')\n"
      ],
      "execution_count": null,
      "outputs": [
        {
          "output_type": "stream",
          "text": [
            "shantanu\n"
          ],
          "name": "stdout"
        }
      ]
    },
    {
      "cell_type": "markdown",
      "metadata": {
        "id": "UeCF8bMk6d0O"
      },
      "source": [
        ""
      ]
    },
    {
      "cell_type": "code",
      "metadata": {
        "colab": {
          "base_uri": "https://localhost:8080/",
          "height": 215
        },
        "id": "P71iNODzJcUN",
        "outputId": "c4a6d585-0571-400e-b83f-f14979c5c9cf"
      },
      "source": [
        "Name = 'Nitin'\n",
        "\n",
        "Print ('hi',Name)\n",
        "\n"
      ],
      "execution_count": 20,
      "outputs": [
        {
          "output_type": "error",
          "ename": "NameError",
          "evalue": "ignored",
          "traceback": [
            "\u001b[0;31m---------------------------------------------------------------------------\u001b[0m",
            "\u001b[0;31mNameError\u001b[0m                                 Traceback (most recent call last)",
            "\u001b[0;32m<ipython-input-20-68f0c6f7853a>\u001b[0m in \u001b[0;36m<module>\u001b[0;34m()\u001b[0m\n\u001b[1;32m      1\u001b[0m \u001b[0mName\u001b[0m \u001b[0;34m=\u001b[0m \u001b[0;34m'Nitin'\u001b[0m\u001b[0;34m\u001b[0m\u001b[0;34m\u001b[0m\u001b[0m\n\u001b[1;32m      2\u001b[0m \u001b[0;34m\u001b[0m\u001b[0m\n\u001b[0;32m----> 3\u001b[0;31m \u001b[0mPrint\u001b[0m \u001b[0;34m(\u001b[0m\u001b[0;34m'hi'\u001b[0m\u001b[0;34m,\u001b[0m\u001b[0mName\u001b[0m\u001b[0;34m)\u001b[0m\u001b[0;34m\u001b[0m\u001b[0;34m\u001b[0m\u001b[0m\n\u001b[0m\u001b[1;32m      4\u001b[0m \u001b[0;34m\u001b[0m\u001b[0m\n",
            "\u001b[0;31mNameError\u001b[0m: name 'Print' is not defined"
          ]
        }
      ]
    },
    {
      "cell_type": "markdown",
      "metadata": {
        "id": "bvAYu6UgIls5"
      },
      "source": [
        ""
      ]
    },
    {
      "cell_type": "code",
      "metadata": {
        "colab": {
          "base_uri": "https://localhost:8080/",
          "height": 130
        },
        "id": "G0xSBgGAeXeJ",
        "outputId": "42da14b8-e709-4faa-bc04-ca54356bfad2"
      },
      "source": [
        "#Indexing and Slicing\n",
        "my_list1= [9,4,5,'a',12,2,5,5,1,4]\n",
        "   Index   #0 1 2  3  4  5 6 7 8 9\n",
        "Negative Index  #         -3 -2 -1 \n",
        "my_list1 [3]\n",
        "my_list1[1:4:2]\n",
        "my_list1[0::2]\n",
        "my_list1[6:]\n",
        "my_list1[2:9:3]\n",
        "my_list1[::-1]"
      ],
      "execution_count": 14,
      "outputs": [
        {
          "output_type": "error",
          "ename": "IndentationError",
          "evalue": "ignored",
          "traceback": [
            "\u001b[0;36m  File \u001b[0;32m\"<ipython-input-14-c05fcecc9471>\"\u001b[0;36m, line \u001b[0;32m3\u001b[0m\n\u001b[0;31m    Index   #0 1 2  3  4  5 6 7 8 9\u001b[0m\n\u001b[0m    ^\u001b[0m\n\u001b[0;31mIndentationError\u001b[0m\u001b[0;31m:\u001b[0m unexpected indent\n"
          ]
        }
      ]
    },
    {
      "cell_type": "code",
      "metadata": {
        "colab": {
          "base_uri": "https://localhost:8080/"
        },
        "id": "8Sfm0PwleZHj",
        "outputId": "df965f2a-bb38-48c7-ada6-c6c4acf8a47c"
      },
      "source": [
        "a = '10'\n",
        "b = 15\n",
        "type(a)\n"
      ],
      "execution_count": 26,
      "outputs": [
        {
          "output_type": "execute_result",
          "data": {
            "text/plain": [
              "str"
            ]
          },
          "metadata": {
            "tags": []
          },
          "execution_count": 26
        }
      ]
    },
    {
      "cell_type": "code",
      "metadata": {
        "colab": {
          "base_uri": "https://localhost:8080/"
        },
        "id": "6mmggonuee18",
        "outputId": "691aef06-d6e2-4b6f-94fa-a72dbef1fb1d"
      },
      "source": [
        "type(b)"
      ],
      "execution_count": 27,
      "outputs": [
        {
          "output_type": "execute_result",
          "data": {
            "text/plain": [
              "int"
            ]
          },
          "metadata": {
            "tags": []
          },
          "execution_count": 27
        }
      ]
    },
    {
      "cell_type": "code",
      "metadata": {
        "colab": {
          "base_uri": "https://localhost:8080/"
        },
        "id": "pLsWKkvoe91_",
        "outputId": "07f9fa1b-8cb9-4281-fc27-f559b3fd1b69"
      },
      "source": [
        "print (int(a)+b)"
      ],
      "execution_count": 28,
      "outputs": [
        {
          "output_type": "stream",
          "text": [
            "25\n"
          ],
          "name": "stdout"
        }
      ]
    },
    {
      "cell_type": "code",
      "metadata": {
        "colab": {
          "base_uri": "https://localhost:8080/"
        },
        "id": "472p9SKyfEPZ",
        "outputId": "a5de9a67-0dd3-40ca-bb69-f0dd9ddbf416"
      },
      "source": [
        "a= 'Hi'\n",
        "b=  \"KingHenry\"\n",
        "c= 4\n",
        "\n",
        "print (a+b+str(c))"
      ],
      "execution_count": 34,
      "outputs": [
        {
          "output_type": "stream",
          "text": [
            "HiKingHenry4\n"
          ],
          "name": "stdout"
        }
      ]
    },
    {
      "cell_type": "code",
      "metadata": {
        "colab": {
          "base_uri": "https://localhost:8080/"
        },
        "id": "jtGBLJKqlLP_",
        "outputId": "2621125b-a809-4cf9-e55d-c72d9fa885c8"
      },
      "source": [
        "a=10\n",
        "print(float(a))"
      ],
      "execution_count": 35,
      "outputs": [
        {
          "output_type": "stream",
          "text": [
            "10.0\n"
          ],
          "name": "stdout"
        }
      ]
    },
    {
      "cell_type": "code",
      "metadata": {
        "colab": {
          "base_uri": "https://localhost:8080/"
        },
        "id": "00nQ9_0-qUrw",
        "outputId": "43bdef53-6daa-4074-a8f5-d087e635a4e2"
      },
      "source": [
        "a='10.97'\n",
        "print(str(a))"
      ],
      "execution_count": 37,
      "outputs": [
        {
          "output_type": "stream",
          "text": [
            "10.97\n"
          ],
          "name": "stdout"
        }
      ]
    },
    {
      "cell_type": "code",
      "metadata": {
        "colab": {
          "base_uri": "https://localhost:8080/"
        },
        "id": "g8__qsJ5qe-p",
        "outputId": "ddc26f52-db16-419c-940a-9ca7f7af7f83"
      },
      "source": [
        "def calcareaTri():\n",
        "  height= input('height:')\n",
        "  base= input('base:')\n",
        "  print(0.5* float(height)* float(base))\n",
        "\n",
        "calcareaTri()\n",
        "  \n"
      ],
      "execution_count": 7,
      "outputs": [
        {
          "output_type": "stream",
          "text": [
            "height:10\n",
            "base:20\n",
            "100.0\n"
          ],
          "name": "stdout"
        }
      ]
    },
    {
      "cell_type": "code",
      "metadata": {
        "colab": {
          "base_uri": "https://localhost:8080/"
        },
        "id": "R_O7ahRZsi0b",
        "outputId": "ead4630f-fa0e-438d-bf60-2554ed57e5de"
      },
      "source": [
        "a= [18,12,28,16,22,29,23,26]\n",
        "for num in a:\n",
        "  print(num)\n",
        "  "
      ],
      "execution_count": 6,
      "outputs": [
        {
          "output_type": "stream",
          "text": [
            "18\n",
            "12\n",
            "28\n",
            "16\n",
            "22\n",
            "29\n",
            "23\n",
            "26\n"
          ],
          "name": "stdout"
        }
      ]
    },
    {
      "cell_type": "code",
      "metadata": {
        "colab": {
          "base_uri": "https://localhost:8080/"
        },
        "id": "aDlnulduuQEF",
        "outputId": "9e46c52c-48a8-4669-8e40-d4ef178781bd"
      },
      "source": [
        "print(max(a))"
      ],
      "execution_count": 46,
      "outputs": [
        {
          "output_type": "stream",
          "text": [
            "29\n"
          ],
          "name": "stdout"
        }
      ]
    },
    {
      "cell_type": "code",
      "metadata": {
        "colab": {
          "base_uri": "https://localhost:8080/"
        },
        "id": "FyCfMS_2xtXK",
        "outputId": "3d5739a5-55ca-4318-d40e-ded3fe85dc14"
      },
      "source": [
        "print(min(a))"
      ],
      "execution_count": 47,
      "outputs": [
        {
          "output_type": "stream",
          "text": [
            "12\n"
          ],
          "name": "stdout"
        }
      ]
    },
    {
      "cell_type": "code",
      "metadata": {
        "colab": {
          "base_uri": "https://localhost:8080/"
        },
        "id": "ayFpsKeGyIHA",
        "outputId": "eb2d3e19-783e-4e2e-84fa-25341d5ec428"
      },
      "source": [
        "for num in [9,4,12,2,5,5,1,4]:\n",
        "  print(num)\n"
      ],
      "execution_count": 1,
      "outputs": [
        {
          "output_type": "stream",
          "text": [
            "9\n",
            "4\n",
            "12\n",
            "2\n",
            "5\n",
            "5\n",
            "1\n",
            "4\n"
          ],
          "name": "stdout"
        }
      ]
    },
    {
      "cell_type": "code",
      "metadata": {
        "colab": {
          "base_uri": "https://localhost:8080/"
        },
        "id": "Tqj1C-Ba2GCJ",
        "outputId": "f4750702-a7e2-4b6a-ed0f-58de8f5fc11c"
      },
      "source": [
        "sum ([10,20,30])"
      ],
      "execution_count": 18,
      "outputs": [
        {
          "output_type": "execute_result",
          "data": {
            "text/plain": [
              "60"
            ]
          },
          "metadata": {
            "tags": []
          },
          "execution_count": 18
        }
      ]
    },
    {
      "cell_type": "code",
      "metadata": {
        "colab": {
          "base_uri": "https://localhost:8080/",
          "height": 37
        },
        "id": "JeaVCkZi7Zpn",
        "outputId": "562fc3ca-9f30-478c-ce69-95fe8b49acd4"
      },
      "source": [
        "'INSAID'[::-1]"
      ],
      "execution_count": 16,
      "outputs": [
        {
          "output_type": "execute_result",
          "data": {
            "application/vnd.google.colaboratory.intrinsic+json": {
              "type": "string"
            },
            "text/plain": [
              "'DIASNI'"
            ]
          },
          "metadata": {
            "tags": []
          },
          "execution_count": 16
        }
      ]
    },
    {
      "cell_type": "code",
      "metadata": {
        "id": "yCXHHHcc78R-"
      },
      "source": [
        ""
      ],
      "execution_count": null,
      "outputs": []
    }
  ]
}